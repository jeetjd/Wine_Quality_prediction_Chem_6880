{
 "cells": [
  {
   "cell_type": "code",
   "execution_count": 5,
   "id": "2664a2e0",
   "metadata": {},
   "outputs": [
    {
     "data": {
      "text/plain": [
       "(1600, 12)"
      ]
     },
     "execution_count": 5,
     "metadata": {},
     "output_type": "execute_result"
    }
   ],
   "source": [
    "import pandas as pd\n",
    "import matplotlib.pyplot as plt\n",
    "import numpy as np\n",
    "import scipy as sp\n",
    "import sklearn\n",
    "\n",
    "data=pd.read_csv(r'red_wine.csv', header=None)\n",
    "\n",
    "data_np=data.to_numpy()\n",
    "\n",
    "np.delete(data_np,0,0)\n",
    "\n",
    "data_np.shape"
   ]
  },
  {
   "cell_type": "code",
   "execution_count": 11,
   "id": "daff6fa7",
   "metadata": {},
   "outputs": [
    {
     "name": "stdout",
     "output_type": "stream",
     "text": [
      "0.71\n"
     ]
    }
   ],
   "source": [
    "from sklearn.svm import SVR\n",
    "\n",
    "#Acidity\n",
    "X=data_np[1:1499,[1,2,3,9]]\n",
    "X=np.append(X,data_np[1:1499,[1,2,3,9]],axis=1)\n",
    "y=data_np[1:1499,-1] #put last column into y\n",
    "\n",
    "#to change test input, change first value in brackets to the (row before):(row desired)\n",
    "y_pred=data_np[1499:1599,[1,2,3,9]] #prediction x value\n",
    "y_pred=np.append(y_pred,data_np[1499:1599,[1,2,3,9]],axis=1)\n",
    "\n",
    "svr_data=SVR(kernel=\"rbf\",epsilon=.001) #setup SVR with rbf kernel\n",
    "svr_data.fit(X,y) #train SVR model\n",
    "\n",
    "#svr_pred=svr_data.predict(y_pred)\n",
    "#svr_pred=np.round(svr_pred)\n",
    "\n",
    "svr_mse=0\n",
    "j=0\n",
    "k=1\n",
    "\n",
    "for i in y_pred:\n",
    "    j=k-1\n",
    "    svr_pred=svr_data.predict(y_pred[j:k])\n",
    "    x=np.round(svr_pred)\n",
    "    x=x.astype(np.int64)\n",
    "    x=x.item(0)\n",
    "    l=1499+k\n",
    "    z=data_np[l,11]\n",
    "    z=int(z)\n",
    "    w=x-z\n",
    "    w=w*w\n",
    "    svr_mse=svr_mse+w\n",
    "    k=k+1\n",
    "svr_mse=svr_mse/100\n",
    "print(svr_mse) #predicted value"
   ]
  },
  {
   "cell_type": "code",
   "execution_count": 12,
   "id": "6c24b945",
   "metadata": {},
   "outputs": [
    {
     "name": "stdout",
     "output_type": "stream",
     "text": [
      "0.98\n"
     ]
    }
   ],
   "source": [
    "#Fermentation\n",
    "X=data_np[1:1499,[4,5,8,11]]\n",
    "X=np.append(X,data_np[1:1499,[4,5,8,11]],axis=1)\n",
    "y=data_np[1:1499,-1] #put last column into y\n",
    "\n",
    "#to change test input, change first value in brackets to the (row before):(row desired)\n",
    "y_pred=data_np[1499:1599,[4,5,8,11]] #prediction x value\n",
    "y_pred=np.append(y_pred,data_np[1499:1599,[4,5,8,11]],axis=1)\n",
    "\n",
    "svr_data=SVR(kernel=\"rbf\",epsilon=.001) #setup SVR with rbf kernel\n",
    "svr_data.fit(X,y) #train SVR model\n",
    "\n",
    "#svr_pred=svr_data.predict(y_pred)\n",
    "#svr_pred=np.round(svr_pred)\n",
    "\n",
    "svr_mse=0\n",
    "j=0\n",
    "k=1\n",
    "\n",
    "for i in y_pred:\n",
    "    j=k-1\n",
    "    svr_pred=svr_data.predict(y_pred[j:k])\n",
    "    x=np.round(svr_pred)\n",
    "    x=x.astype(np.int64)\n",
    "    x=x.item(0)\n",
    "    l=1499+k\n",
    "    z=data_np[l,11]\n",
    "    z=int(z)\n",
    "    w=x-z\n",
    "    w=w*w\n",
    "    svr_mse=svr_mse+w\n",
    "    k=k+1\n",
    "svr_mse=svr_mse/100\n",
    "print(svr_mse) #predicted value"
   ]
  },
  {
   "cell_type": "code",
   "execution_count": 13,
   "id": "564ae69b",
   "metadata": {},
   "outputs": [
    {
     "name": "stdout",
     "output_type": "stream",
     "text": [
      "0.67\n"
     ]
    }
   ],
   "source": [
    "#Sulfur Dioxide\n",
    "X=data_np[1:1499,[5,6,7,10]]\n",
    "X=np.append(X,data_np[1:1499,[5,6,7,10]],axis=1)\n",
    "y=data_np[1:1499,-1] #put last column into y\n",
    "\n",
    "#to change test input, change first value in brackets to the (row before):(row desired)\n",
    "y_pred=data_np[1499:1599,[5,6,7,10]] #prediction x value\n",
    "y_pred=np.append(y_pred,data_np[1499:1599,[5,6,7,10]],axis=1)\n",
    "\n",
    "svr_data=SVR(kernel=\"rbf\",epsilon=.001) #setup SVR with rbf kernel\n",
    "svr_data.fit(X,y) #train SVR model\n",
    "\n",
    "#svr_pred=svr_data.predict(y_pred)\n",
    "#svr_pred=np.round(svr_pred)\n",
    "\n",
    "svr_mse=0\n",
    "j=0\n",
    "k=1\n",
    "\n",
    "for i in y_pred:\n",
    "    j=k-1\n",
    "    svr_pred=svr_data.predict(y_pred[j:k])\n",
    "    x=np.round(svr_pred)\n",
    "    x=x.astype(np.int64)\n",
    "    x=x.item(0)\n",
    "    l=1499+k\n",
    "    z=data_np[l,11]\n",
    "    z=int(z)\n",
    "    w=x-z\n",
    "    w=w*w\n",
    "    svr_mse=svr_mse+w\n",
    "    k=k+1\n",
    "svr_mse=svr_mse/100\n",
    "print(svr_mse) #predicted value"
   ]
  },
  {
   "cell_type": "code",
   "execution_count": null,
   "id": "8c9adc9f",
   "metadata": {},
   "outputs": [],
   "source": []
  }
 ],
 "metadata": {
  "kernelspec": {
   "display_name": "Python 3 (ipykernel)",
   "language": "python",
   "name": "python3"
  },
  "language_info": {
   "codemirror_mode": {
    "name": "ipython",
    "version": 3
   },
   "file_extension": ".py",
   "mimetype": "text/x-python",
   "name": "python",
   "nbconvert_exporter": "python",
   "pygments_lexer": "ipython3",
   "version": "3.8.8"
  }
 },
 "nbformat": 4,
 "nbformat_minor": 5
}
