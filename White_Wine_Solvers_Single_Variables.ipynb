{
 "cells": [
  {
   "cell_type": "code",
   "execution_count": 1,
   "id": "2664a2e0",
   "metadata": {},
   "outputs": [
    {
     "data": {
      "text/plain": [
       "(4899, 12)"
      ]
     },
     "execution_count": 1,
     "metadata": {},
     "output_type": "execute_result"
    }
   ],
   "source": [
    "import pandas as pd\n",
    "import matplotlib.pyplot as plt\n",
    "import numpy as np\n",
    "import scipy as sp\n",
    "import sklearn\n",
    "\n",
    "data=pd.read_csv(r'C:\\Users\\Max\\Documents\\white_wine.csv', header=None)\n",
    "\n",
    "data_np=data.to_numpy()\n",
    "\n",
    "np.delete(data_np,0,0)\n",
    "\n",
    "data_np.shape"
   ]
  },
  {
   "cell_type": "code",
   "execution_count": 7,
   "id": "daff6fa7",
   "metadata": {},
   "outputs": [
    {
     "name": "stdout",
     "output_type": "stream",
     "text": [
      "0.66\n"
     ]
    }
   ],
   "source": [
    "from sklearn.ensemble import RandomForestClassifier\n",
    "\n",
    "#Fixed Acidity\n",
    "X=data_np[1:4698,0:1]\n",
    "X=np.append(X,data_np[1:4698,0:1],axis=1)\n",
    "y=data_np[1:4698,-1] #put last column into y\n",
    "\n",
    "#to change test input, change first value in brackets to the (row before):(row desired)\n",
    "y_pred=data_np[4698:4898,0:1] #prediction x value\n",
    "y_pred=np.append(y_pred,data_np[4698:4898,0:1],axis=1)\n",
    "\n",
    "rf_class=RandomForestClassifier() #classify random forest\n",
    "rf_class.fit(X,y) #train model\n",
    "\n",
    "rf_mse=0\n",
    "j=0\n",
    "k=1\n",
    "\n",
    "for i in y_pred:\n",
    "    j=k-1\n",
    "    x=rf_class.predict(y_pred[j:k])\n",
    "    x=x.astype(np.int64)\n",
    "    x=x.item(0)\n",
    "    l=4698+k\n",
    "    z=data_np[l,11]\n",
    "    z=int(z)\n",
    "    w=x-z\n",
    "    w=w*w\n",
    "    rf_mse=rf_mse+w\n",
    "    k=k+1\n",
    "rf_mse=rf_mse/200\n",
    "print(rf_mse) #predicted value"
   ]
  },
  {
   "cell_type": "code",
   "execution_count": 8,
   "id": "6c24b945",
   "metadata": {},
   "outputs": [
    {
     "name": "stdout",
     "output_type": "stream",
     "text": [
      "0.78\n"
     ]
    }
   ],
   "source": [
    "#Volatile Acidity\n",
    "X=data_np[1:4698,1:2]\n",
    "X=np.append(X,data_np[1:4698,1:2],axis=1)\n",
    "y=data_np[1:4698,-1] #put last column into y\n",
    "\n",
    "#to change test input, change first value in brackets to the (row before):(row desired)\n",
    "y_pred=data_np[4698:4898,1:2] #prediction x value\n",
    "y_pred=np.append(y_pred,data_np[4698:4898,1:2],axis=1)\n",
    "\n",
    "rf_class=RandomForestClassifier() #classify random forest\n",
    "rf_class.fit(X,y) #train model\n",
    "\n",
    "rf_mse=0\n",
    "j=0\n",
    "k=1\n",
    "\n",
    "for i in y_pred:\n",
    "    j=k-1\n",
    "    x=rf_class.predict(y_pred[j:k])\n",
    "    x=x.astype(np.int64)\n",
    "    x=x.item(0)\n",
    "    l=4698+k\n",
    "    z=data_np[l,11]\n",
    "    z=int(z)\n",
    "    w=x-z\n",
    "    w=w*w\n",
    "    rf_mse=rf_mse+w\n",
    "    k=k+1\n",
    "rf_mse=rf_mse/200\n",
    "print(rf_mse) #predicted value"
   ]
  },
  {
   "cell_type": "code",
   "execution_count": 9,
   "id": "564ae69b",
   "metadata": {},
   "outputs": [
    {
     "name": "stdout",
     "output_type": "stream",
     "text": [
      "0.7\n"
     ]
    }
   ],
   "source": [
    "#Citric Acid\n",
    "X=data_np[1:4698,2:3]\n",
    "X=np.append(X,data_np[1:4698,2:3],axis=1)\n",
    "y=data_np[1:4698,-1] #put last column into y\n",
    "\n",
    "#to change test input, change first value in brackets to the (row before):(row desired)\n",
    "y_pred=data_np[4698:4898,2:3] #prediction x value\n",
    "y_pred=np.append(y_pred,data_np[4698:4898,2:3],axis=1)\n",
    "\n",
    "rf_class=RandomForestClassifier() #classify random forest\n",
    "rf_class.fit(X,y) #train model\n",
    "\n",
    "rf_mse=0\n",
    "j=0\n",
    "k=1\n",
    "\n",
    "for i in y_pred:\n",
    "    j=k-1\n",
    "    x=rf_class.predict(y_pred[j:k])\n",
    "    x=x.astype(np.int64)\n",
    "    x=x.item(0)\n",
    "    l=4698+k\n",
    "    z=data_np[l,11]\n",
    "    z=int(z)\n",
    "    w=x-z\n",
    "    w=w*w\n",
    "    rf_mse=rf_mse+w\n",
    "    k=k+1\n",
    "rf_mse=rf_mse/200\n",
    "print(rf_mse) #predicted value"
   ]
  },
  {
   "cell_type": "code",
   "execution_count": 10,
   "id": "38ceb436",
   "metadata": {},
   "outputs": [
    {
     "name": "stdout",
     "output_type": "stream",
     "text": [
      "0.815\n"
     ]
    }
   ],
   "source": [
    "#Residual Sugar\n",
    "X=data_np[1:4698,3:4]\n",
    "X=np.append(X,data_np[1:4698,3:4],axis=1)\n",
    "y=data_np[1:4698,-1] #put last column into y\n",
    "\n",
    "#to change test input, change first value in brackets to the (row before):(row desired)\n",
    "y_pred=data_np[4698:4898,3:4] #prediction x value\n",
    "y_pred=np.append(y_pred,data_np[4698:4898,3:4],axis=1)\n",
    "\n",
    "rf_class=RandomForestClassifier() #classify random forest\n",
    "rf_class.fit(X,y) #train model\n",
    "\n",
    "rf_mse=0\n",
    "j=0\n",
    "k=1\n",
    "\n",
    "for i in y_pred:\n",
    "    j=k-1\n",
    "    x=rf_class.predict(y_pred[j:k])\n",
    "    x=x.astype(np.int64)\n",
    "    x=x.item(0)\n",
    "    l=4698+k\n",
    "    z=data_np[l,11]\n",
    "    z=int(z)\n",
    "    w=x-z\n",
    "    w=w*w\n",
    "    rf_mse=rf_mse+w\n",
    "    k=k+1\n",
    "rf_mse=rf_mse/200\n",
    "print(rf_mse) #predicted value"
   ]
  },
  {
   "cell_type": "code",
   "execution_count": 11,
   "id": "11735f73",
   "metadata": {},
   "outputs": [
    {
     "name": "stdout",
     "output_type": "stream",
     "text": [
      "0.815\n"
     ]
    }
   ],
   "source": [
    "#Chlorides\n",
    "X=data_np[1:4698,4:5]\n",
    "X=np.append(X,data_np[1:4698,4:5],axis=1)\n",
    "y=data_np[1:4698,-1] #put last column into y\n",
    "\n",
    "#to change test input, change first value in brackets to the (row before):(row desired)\n",
    "y_pred=data_np[4698:4898,4:5] #prediction x value\n",
    "y_pred=np.append(y_pred,data_np[4698:4898,4:5],axis=1)\n",
    "\n",
    "rf_class=RandomForestClassifier() #classify random forest\n",
    "rf_class.fit(X,y) #train model\n",
    "\n",
    "rf_mse=0\n",
    "j=0\n",
    "k=1\n",
    "\n",
    "for i in y_pred:\n",
    "    j=k-1\n",
    "    x=rf_class.predict(y_pred[j:k])\n",
    "    x=x.astype(np.int64)\n",
    "    x=x.item(0)\n",
    "    l=4698+k\n",
    "    z=data_np[l,11]\n",
    "    z=int(z)\n",
    "    w=x-z\n",
    "    w=w*w\n",
    "    rf_mse=rf_mse+w\n",
    "    k=k+1\n",
    "rf_mse=rf_mse/200\n",
    "print(rf_mse) #predicted value"
   ]
  },
  {
   "cell_type": "code",
   "execution_count": 12,
   "id": "b5ba9016",
   "metadata": {},
   "outputs": [
    {
     "name": "stdout",
     "output_type": "stream",
     "text": [
      "0.78\n"
     ]
    }
   ],
   "source": [
    "#Free Sulfur Dioxide\n",
    "X=data_np[1:4698,5:6]\n",
    "X=np.append(X,data_np[1:4698,5:6],axis=1)\n",
    "y=data_np[1:4698,-1] #put last column into y\n",
    "\n",
    "#to change test input, change first value in brackets to the (row before):(row desired)\n",
    "y_pred=data_np[4698:4898,5:6] #prediction x value\n",
    "y_pred=np.append(y_pred,data_np[4698:4898,5:6],axis=1)\n",
    "\n",
    "rf_class=RandomForestClassifier() #classify random forest\n",
    "rf_class.fit(X,y) #train model\n",
    "\n",
    "rf_mse=0\n",
    "j=0\n",
    "k=1\n",
    "\n",
    "for i in y_pred:\n",
    "    j=k-1\n",
    "    x=rf_class.predict(y_pred[j:k])\n",
    "    x=x.astype(np.int64)\n",
    "    x=x.item(0)\n",
    "    l=4698+k\n",
    "    z=data_np[l,11]\n",
    "    z=int(z)\n",
    "    w=x-z\n",
    "    w=w*w\n",
    "    rf_mse=rf_mse+w\n",
    "    k=k+1\n",
    "rf_mse=rf_mse/200\n",
    "print(rf_mse) #predicted value"
   ]
  },
  {
   "cell_type": "code",
   "execution_count": 13,
   "id": "75d02b0a",
   "metadata": {},
   "outputs": [
    {
     "name": "stdout",
     "output_type": "stream",
     "text": [
      "0.9\n"
     ]
    }
   ],
   "source": [
    "#Total Sulfur Dioxide\n",
    "X=data_np[1:4698,6:7]\n",
    "X=np.append(X,data_np[1:4698,6:7],axis=1)\n",
    "y=data_np[1:4698,-1] #put last column into y\n",
    "\n",
    "#to change test input, change first value in brackets to the (row before):(row desired)\n",
    "y_pred=data_np[4698:4898,6:7] #prediction x value\n",
    "y_pred=np.append(y_pred,data_np[4698:4898,6:7],axis=1)\n",
    "\n",
    "rf_class=RandomForestClassifier() #classify random forest\n",
    "rf_class.fit(X,y) #train model\n",
    "\n",
    "rf_mse=0\n",
    "j=0\n",
    "k=1\n",
    "\n",
    "for i in y_pred:\n",
    "    j=k-1\n",
    "    x=rf_class.predict(y_pred[j:k])\n",
    "    x=x.astype(np.int64)\n",
    "    x=x.item(0)\n",
    "    l=4698+k\n",
    "    z=data_np[l,11]\n",
    "    z=int(z)\n",
    "    w=x-z\n",
    "    w=w*w\n",
    "    rf_mse=rf_mse+w\n",
    "    k=k+1\n",
    "rf_mse=rf_mse/200\n",
    "print(rf_mse) #predicted value"
   ]
  },
  {
   "cell_type": "code",
   "execution_count": 14,
   "id": "bbce0ec8",
   "metadata": {},
   "outputs": [
    {
     "name": "stdout",
     "output_type": "stream",
     "text": [
      "1.465\n"
     ]
    }
   ],
   "source": [
    "#Density\n",
    "X=data_np[1:4698,7:8]\n",
    "X=np.append(X,data_np[1:4698,7:8],axis=1)\n",
    "y=data_np[1:4698,-1] #put last column into y\n",
    "\n",
    "#to change test input, change first value in brackets to the (row before):(row desired)\n",
    "y_pred=data_np[4698:4898,7:8] #prediction x value\n",
    "y_pred=np.append(y_pred,data_np[4698:4898,7:8],axis=1)\n",
    "\n",
    "rf_class=RandomForestClassifier() #classify random forest\n",
    "rf_class.fit(X,y) #train model\n",
    "\n",
    "rf_mse=0\n",
    "j=0\n",
    "k=1\n",
    "\n",
    "for i in y_pred:\n",
    "    j=k-1\n",
    "    x=rf_class.predict(y_pred[j:k])\n",
    "    x=x.astype(np.int64)\n",
    "    x=x.item(0)\n",
    "    l=4698+k\n",
    "    z=data_np[l,11]\n",
    "    z=int(z)\n",
    "    w=x-z\n",
    "    w=w*w\n",
    "    rf_mse=rf_mse+w\n",
    "    k=k+1\n",
    "rf_mse=rf_mse/200\n",
    "print(rf_mse) #predicted value"
   ]
  },
  {
   "cell_type": "code",
   "execution_count": 15,
   "id": "a0a00b83",
   "metadata": {},
   "outputs": [
    {
     "name": "stdout",
     "output_type": "stream",
     "text": [
      "0.675\n"
     ]
    }
   ],
   "source": [
    "#pH\n",
    "X=data_np[1:4698,8:9]\n",
    "X=np.append(X,data_np[1:4698,8:9],axis=1)\n",
    "y=data_np[1:4698,-1] #put last column into y\n",
    "\n",
    "#to change test input, change first value in brackets to the (row before):(row desired)\n",
    "y_pred=data_np[4698:4898,8:9] #prediction x value\n",
    "y_pred=np.append(y_pred,data_np[4698:4898,8:9],axis=1)\n",
    "\n",
    "rf_class=RandomForestClassifier() #classify random forest\n",
    "rf_class.fit(X,y) #train model\n",
    "\n",
    "rf_mse=0\n",
    "j=0\n",
    "k=1\n",
    "\n",
    "for i in y_pred:\n",
    "    j=k-1\n",
    "    x=rf_class.predict(y_pred[j:k])\n",
    "    x=x.astype(np.int64)\n",
    "    x=x.item(0)\n",
    "    l=4698+k\n",
    "    z=data_np[l,11]\n",
    "    z=int(z)\n",
    "    w=x-z\n",
    "    w=w*w\n",
    "    rf_mse=rf_mse+w\n",
    "    k=k+1\n",
    "rf_mse=rf_mse/200\n",
    "print(rf_mse) #predicted value"
   ]
  },
  {
   "cell_type": "code",
   "execution_count": 16,
   "id": "7635df56",
   "metadata": {},
   "outputs": [
    {
     "name": "stdout",
     "output_type": "stream",
     "text": [
      "0.79\n"
     ]
    }
   ],
   "source": [
    "#Sulphates\n",
    "X=data_np[1:4698,9:10]\n",
    "X=np.append(X,data_np[1:4698,9:10],axis=1)\n",
    "y=data_np[1:4698,-1] #put last column into y\n",
    "\n",
    "#to change test input, change first value in brackets to the (row before):(row desired)\n",
    "y_pred=data_np[4698:4898,9:10] #prediction x value\n",
    "y_pred=np.append(y_pred,data_np[4698:4898,9:10],axis=1)\n",
    "\n",
    "rf_class=RandomForestClassifier() #classify random forest\n",
    "rf_class.fit(X,y) #train model\n",
    "\n",
    "rf_mse=0\n",
    "j=0\n",
    "k=1\n",
    "\n",
    "for i in y_pred:\n",
    "    j=k-1\n",
    "    x=rf_class.predict(y_pred[j:k])\n",
    "    x=x.astype(np.int64)\n",
    "    x=x.item(0)\n",
    "    l=4698+k\n",
    "    z=data_np[l,11]\n",
    "    z=int(z)\n",
    "    w=x-z\n",
    "    w=w*w\n",
    "    rf_mse=rf_mse+w\n",
    "    k=k+1\n",
    "rf_mse=rf_mse/200\n",
    "print(rf_mse) #predicted value"
   ]
  },
  {
   "cell_type": "code",
   "execution_count": 17,
   "id": "86f06b93",
   "metadata": {},
   "outputs": [
    {
     "name": "stdout",
     "output_type": "stream",
     "text": [
      "0.875\n"
     ]
    }
   ],
   "source": [
    "#Alcohol\n",
    "X=data_np[1:4698,10:11]\n",
    "X=np.append(X,data_np[1:4698,10:11],axis=1)\n",
    "y=data_np[1:4698,-1] #put last column into y\n",
    "\n",
    "#to change test input, change first value in brackets to the (row before):(row desired)\n",
    "y_pred=data_np[4698:4898,10:11] #prediction x value\n",
    "y_pred=np.append(y_pred,data_np[4698:4898,10:11],axis=1)\n",
    "\n",
    "rf_class=RandomForestClassifier() #classify random forest\n",
    "rf_class.fit(X,y) #train model\n",
    "\n",
    "rf_mse=0\n",
    "j=0\n",
    "k=1\n",
    "\n",
    "for i in y_pred:\n",
    "    j=k-1\n",
    "    x=rf_class.predict(y_pred[j:k])\n",
    "    x=x.astype(np.int64)\n",
    "    x=x.item(0)\n",
    "    l=4698+k\n",
    "    z=data_np[l,11]\n",
    "    z=int(z)\n",
    "    w=x-z\n",
    "    w=w*w\n",
    "    rf_mse=rf_mse+w\n",
    "    k=k+1\n",
    "rf_mse=rf_mse/200\n",
    "print(rf_mse) #predicted value"
   ]
  }
 ],
 "metadata": {
  "kernelspec": {
   "display_name": "Python 3 (ipykernel)",
   "language": "python",
   "name": "python3"
  },
  "language_info": {
   "codemirror_mode": {
    "name": "ipython",
    "version": 3
   },
   "file_extension": ".py",
   "mimetype": "text/x-python",
   "name": "python",
   "nbconvert_exporter": "python",
   "pygments_lexer": "ipython3",
   "version": "3.10.4"
  }
 },
 "nbformat": 4,
 "nbformat_minor": 5
}
