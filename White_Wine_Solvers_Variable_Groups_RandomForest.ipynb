{
 "cells": [
  {
   "cell_type": "code",
   "execution_count": 3,
   "id": "2664a2e0",
   "metadata": {},
   "outputs": [
    {
     "data": {
      "text/plain": [
       "(4899, 12)"
      ]
     },
     "execution_count": 3,
     "metadata": {},
     "output_type": "execute_result"
    }
   ],
   "source": [
    "import pandas as pd\n",
    "import matplotlib.pyplot as plt\n",
    "import numpy as np\n",
    "import scipy as sp\n",
    "import sklearn\n",
    "\n",
    "data=pd.read_csv(r'white_wine.csv', header=None)\n",
    "\n",
    "data_np=data.to_numpy()\n",
    "\n",
    "np.delete(data_np,0,0)\n",
    "\n",
    "data_np.shape"
   ]
  },
  {
   "cell_type": "code",
   "execution_count": 6,
   "id": "daff6fa7",
   "metadata": {},
   "outputs": [
    {
     "name": "stdout",
     "output_type": "stream",
     "text": [
      "1.02\n"
     ]
    }
   ],
   "source": [
    "from sklearn.ensemble import RandomForestClassifier\n",
    "\n",
    "#Acidity\n",
    "X=data_np[1:4798,[1,2,3,9]]\n",
    "X=np.append(X,data_np[1:4798,[1,2,3,9]],axis=1)\n",
    "y=data_np[1:4798,-1] #put last column into y\n",
    "\n",
    "#to change test input, change first value in brackets to the (row before):(row desired)\n",
    "y_pred=data_np[4798:4898,[1,2,3,9]] #prediction x value\n",
    "y_pred=np.append(y_pred,data_np[4798:4898,[1,2,3,9]],axis=1)\n",
    "\n",
    "rf_class=RandomForestClassifier() #classify random forest\n",
    "rf_class.fit(X,y) #train model\n",
    "\n",
    "rf_mse=0\n",
    "j=0\n",
    "k=1\n",
    "\n",
    "for i in y_pred:\n",
    "    j=k-1\n",
    "    x=rf_class.predict(y_pred[j:k])\n",
    "    #x=np.round(rf_pred)\n",
    "    x=x.astype(np.int64)\n",
    "    x=x.item(0)\n",
    "    l=4798+k\n",
    "    z=data_np[l,11]\n",
    "    z=int(z)\n",
    "    w=x-z\n",
    "    w=w*w\n",
    "    rf_mse=rf_mse+w\n",
    "    k=k+1\n",
    "rf_mse=rf_mse/100\n",
    "print(rf_mse) #predicted value"
   ]
  },
  {
   "cell_type": "code",
   "execution_count": 7,
   "id": "6c24b945",
   "metadata": {},
   "outputs": [
    {
     "name": "stdout",
     "output_type": "stream",
     "text": [
      "1.12\n"
     ]
    }
   ],
   "source": [
    "#Fermentation\n",
    "X=data_np[1:4798,[4,5,8,11]]\n",
    "X=np.append(X,data_np[1:4798,[4,5,8,11]],axis=1)\n",
    "y=data_np[1:4798,-1] #put last column into y\n",
    "\n",
    "#to change test input, change first value in brackets to the (row before):(row desired)\n",
    "y_pred=data_np[4798:4898,[4,5,8,11]] #prediction x value\n",
    "y_pred=np.append(y_pred,data_np[4798:4898,[4,5,8,11]],axis=1)\n",
    "\n",
    "rf_class=RandomForestClassifier() #classify random forest\n",
    "rf_class.fit(X,y) #train model\n",
    "\n",
    "rf_mse=0\n",
    "j=0\n",
    "k=1\n",
    "\n",
    "for i in y_pred:\n",
    "    j=k-1\n",
    "    x=rf_class.predict(y_pred[j:k])\n",
    "    #x=np.round(rf_pred)\n",
    "    x=x.astype(np.int64)\n",
    "    x=x.item(0)\n",
    "    l=4798+k\n",
    "    z=data_np[l,11]\n",
    "    z=int(z)\n",
    "    w=x-z\n",
    "    w=w*w\n",
    "    rf_mse=rf_mse+w\n",
    "    k=k+1\n",
    "rf_mse=rf_mse/100\n",
    "print(rf_mse) #predicted value"
   ]
  },
  {
   "cell_type": "code",
   "execution_count": 8,
   "id": "564ae69b",
   "metadata": {},
   "outputs": [
    {
     "name": "stdout",
     "output_type": "stream",
     "text": [
      "1.03\n"
     ]
    }
   ],
   "source": [
    "#Sulfur Dioxide\n",
    "X=data_np[1:4798,[5,6,7,10]]\n",
    "X=np.append(X,data_np[1:4798,[5,6,7,10]],axis=1)\n",
    "y=data_np[1:4798,-1] #put last column into y\n",
    "\n",
    "#to change test input, change first value in brackets to the (row before):(row desired)\n",
    "y_pred=data_np[4798:4898,[5,6,7,10]] #prediction x value\n",
    "y_pred=np.append(y_pred,data_np[4798:4898,[5,6,7,10]],axis=1)\n",
    "\n",
    "rf_class=RandomForestClassifier() #classify random forest\n",
    "rf_class.fit(X,y) #train model\n",
    "\n",
    "rf_mse=0\n",
    "j=0\n",
    "k=1\n",
    "\n",
    "for i in y_pred:\n",
    "    j=k-1\n",
    "    x=rf_class.predict(y_pred[j:k])\n",
    "    #x=np.round(rf_pred)\n",
    "    x=x.astype(np.int64)\n",
    "    x=x.item(0)\n",
    "    l=4798+k\n",
    "    z=data_np[l,11]\n",
    "    z=int(z)\n",
    "    w=x-z\n",
    "    w=w*w\n",
    "    rf_mse=rf_mse+w\n",
    "    k=k+1\n",
    "rf_mse=rf_mse/100\n",
    "print(rf_mse) #predicted value"
   ]
  },
  {
   "cell_type": "code",
   "execution_count": null,
   "id": "39c211ce",
   "metadata": {},
   "outputs": [],
   "source": []
  }
 ],
 "metadata": {
  "kernelspec": {
   "display_name": "Python 3 (ipykernel)",
   "language": "python",
   "name": "python3"
  },
  "language_info": {
   "codemirror_mode": {
    "name": "ipython",
    "version": 3
   },
   "file_extension": ".py",
   "mimetype": "text/x-python",
   "name": "python",
   "nbconvert_exporter": "python",
   "pygments_lexer": "ipython3",
   "version": "3.8.8"
  }
 },
 "nbformat": 4,
 "nbformat_minor": 5
}
