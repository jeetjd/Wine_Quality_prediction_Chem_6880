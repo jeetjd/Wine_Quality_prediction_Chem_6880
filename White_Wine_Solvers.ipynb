{
 "cells": [
  {
   "cell_type": "code",
   "execution_count": 7,
   "id": "2664a2e0",
   "metadata": {},
   "outputs": [
    {
     "data": {
      "text/plain": [
       "(4899, 12)"
      ]
     },
     "execution_count": 7,
     "metadata": {},
     "output_type": "execute_result"
    }
   ],
   "source": [
    "import pandas as pd\n",
    "import matplotlib.pyplot as plt\n",
    "import numpy as np\n",
    "import scipy as sp\n",
    "import sklearn\n",
    "\n",
    "data=pd.read_csv(r'C:\\Users\\Max\\Documents\\white_wine.csv', header=None)\n",
    "\n",
    "data_np=data.to_numpy()\n",
    "\n",
    "np.delete(data_np,0,0)\n",
    "\n",
    "data_np.shape"
   ]
  },
  {
   "cell_type": "code",
   "execution_count": 34,
   "id": "daff6fa7",
   "metadata": {},
   "outputs": [
    {
     "name": "stdout",
     "output_type": "stream",
     "text": [
      "1.04\n"
     ]
    }
   ],
   "source": [
    "#AdaBoostClassifier\n",
    "import pandas as pd\n",
    "import numpy as np\n",
    "import sklearn\n",
    "from sklearn.ensemble import AdaBoostClassifier\n",
    "\n",
    "X=data_np[1:4698,0:11] #put first 4 columns into x\n",
    "y=data_np[1:4698,-1] #put last column into y\n",
    "\n",
    "#to change test input, change first value in brackets to the (row before):(row desired)\n",
    "y_pred=data_np[4698:4898,0:11] #prediction x value\n",
    "\n",
    "ada_class=AdaBoostClassifier() #setup adaboost classifier\n",
    "\n",
    "#*****changing AdaBoostClassifier parameters either negatively effects or does not effect MSE\n",
    "\n",
    "ada_class.fit(X,y) #train model\n",
    "\n",
    "ada_mse=0\n",
    "j=0\n",
    "k=1\n",
    "\n",
    "for i in y_pred:\n",
    "    j=k-1\n",
    "    x=ada_class.predict(y_pred[j:k,0:11])\n",
    "    x=x.astype(np.int64)\n",
    "    x=x.item(0)\n",
    "    l=4698+k\n",
    "    z=data_np[l,11]\n",
    "    z=int(z)\n",
    "    w=x-z\n",
    "    w=w*w\n",
    "    ada_mse=ada_mse+w\n",
    "    k=k+1\n",
    "ada_mse=ada_mse/200\n",
    "print(ada_mse) #predicted value"
   ]
  },
  {
   "cell_type": "code",
   "execution_count": 35,
   "id": "5822a3c6",
   "metadata": {},
   "outputs": [
    {
     "name": "stdout",
     "output_type": "stream",
     "text": [
      "0.98\n"
     ]
    }
   ],
   "source": [
    "from sklearn.ensemble import GradientBoostingClassifier\n",
    "gbm_class=GradientBoostingClassifier() #setup classifier\n",
    "gbm_class.fit(X,y) #train model\n",
    "\n",
    "gbm_mse=0\n",
    "j=0\n",
    "k=1\n",
    "\n",
    "for i in y_pred:\n",
    "    j=k-1\n",
    "    x=gbm_class.predict(y_pred[j:k,0:11])\n",
    "    x=x.astype(np.int64)\n",
    "    x=x.item(0)\n",
    "    l=4698+k\n",
    "    z=data_np[l,11]\n",
    "    z=int(z)\n",
    "    w=x-z\n",
    "    w=w*w\n",
    "    gbm_mse=gbm_mse+w\n",
    "    k=k+1\n",
    "gbm_mse=gbm_mse/200\n",
    "print(gbm_mse) #prediction"
   ]
  },
  {
   "cell_type": "code",
   "execution_count": 36,
   "id": "55f1ada3",
   "metadata": {},
   "outputs": [
    {
     "name": "stdout",
     "output_type": "stream",
     "text": [
      "0.965\n"
     ]
    }
   ],
   "source": [
    "import xgboost as xgb\n",
    "xtrain=xgb.DMatrix(X,label=y) #send to DMatrix\n",
    "param={}\n",
    "\n",
    "bst=xgb.train(param,xtrain) #train model\n",
    "\n",
    "#dtest=xgb.DMatrix(y_pred) #test model\n",
    "#xg_pred=bst.predict(dtest)\n",
    "#xg_pred=np.round(xg_pred)\n",
    "\n",
    "xg_mse=0\n",
    "j=0\n",
    "k=1\n",
    "\n",
    "for i in y_pred:\n",
    "    j=k-1\n",
    "    dtest=xgb.DMatrix(y_pred[j:k,0:11]) #test model\n",
    "    xg_pred=bst.predict(dtest)\n",
    "    xg_pred=np.round(xg_pred)\n",
    "    x=xg_pred.astype(np.int64)\n",
    "    x=x.item(0)\n",
    "    l=4698+k\n",
    "    z=data_np[l,11]\n",
    "    z=int(z)\n",
    "    w=x-z\n",
    "    w=w*w\n",
    "    xg_mse=xg_mse+w\n",
    "    k=k+1\n",
    "xg_mse=xg_mse/200\n",
    "print(xg_mse) #prediction"
   ]
  },
  {
   "cell_type": "code",
   "execution_count": 37,
   "id": "7a919f47",
   "metadata": {},
   "outputs": [
    {
     "name": "stdout",
     "output_type": "stream",
     "text": [
      "0.95\n"
     ]
    }
   ],
   "source": [
    "from sklearn.ensemble import RandomForestClassifier\n",
    "rf_class=RandomForestClassifier() #classify random forest; MSE seems to vary regardless of parameters set\n",
    "rf_class.fit(X,y) #train model\n",
    "\n",
    "rf_mse=0\n",
    "j=0\n",
    "k=1\n",
    "mat_=[]\n",
    "\n",
    "for i in y_pred:\n",
    "    j=k-1\n",
    "    x=rf_class.predict(y_pred[j:k,0:11])\n",
    "    x=x.astype(np.int64)\n",
    "    x=x.item(0)\n",
    "    mat_.append(x)\n",
    "    l=4698+k\n",
    "    z=data_np[l,11]\n",
    "    z=int(z)\n",
    "    w=x-z\n",
    "    w=w*w\n",
    "    rf_mse=rf_mse+w\n",
    "    k=k+1\n",
    "rf_mse=rf_mse/200\n",
    "print(rf_mse)"
   ]
  },
  {
   "cell_type": "code",
   "execution_count": 38,
   "id": "7b275ea9",
   "metadata": {},
   "outputs": [
    {
     "name": "stdout",
     "output_type": "stream",
     "text": [
      "1.11\n"
     ]
    }
   ],
   "source": [
    "from sklearn.tree import DecisionTreeRegressor\n",
    "dt_class=DecisionTreeRegressor() #set up decision tree regressor\n",
    "dt_class.fit(X,y) #train model\n",
    "\n",
    "dt_mse=0\n",
    "j=0\n",
    "k=1\n",
    "mat_=[]\n",
    "\n",
    "for i in y_pred:\n",
    "    j=k-1\n",
    "    x=dt_class.predict(y_pred[j:k,0:11])\n",
    "    x=x.astype(np.int64)\n",
    "    x=x.item(0)\n",
    "    mat_.append(x)\n",
    "    l=4698+k\n",
    "    z=data_np[l,11]\n",
    "    z=int(z)\n",
    "    w=x-z\n",
    "    w=w*w\n",
    "    dt_mse=dt_mse+w\n",
    "    k=k+1\n",
    "dt_mse=dt_mse/200\n",
    "print(dt_mse)"
   ]
  },
  {
   "cell_type": "code",
   "execution_count": 39,
   "id": "99075002",
   "metadata": {},
   "outputs": [
    {
     "name": "stdout",
     "output_type": "stream",
     "text": [
      "0.62\n"
     ]
    }
   ],
   "source": [
    "from sklearn.svm import SVR\n",
    "svr_data=SVR(kernel=\"rbf\") #setup SVR with rbf kernel\n",
    "svr_data.fit(X,y) #train SVR model\n",
    "\n",
    "#svr_pred=svr_data.predict(y_pred)\n",
    "#svr_pred=np.round(svr_pred)\n",
    "\n",
    "svr_mse=0\n",
    "j=0\n",
    "k=1\n",
    "mat_=[]\n",
    "\n",
    "for i in y_pred:\n",
    "    j=k-1\n",
    "    svr_pred=svr_data.predict(y_pred[j:k,0:11])\n",
    "    x=np.round(svr_pred)\n",
    "    x=x.astype(np.int64)\n",
    "    x=x.item(0)\n",
    "    mat_.append(x)\n",
    "    l=4698+k\n",
    "    z=data_np[l,11]\n",
    "    z=int(z)\n",
    "    w=x-z\n",
    "    w=w*w\n",
    "    svr_mse=svr_mse+w\n",
    "    k=k+1\n",
    "svr_mse=svr_mse/200\n",
    "print(svr_mse)"
   ]
  }
 ],
 "metadata": {
  "kernelspec": {
   "display_name": "Python 3 (ipykernel)",
   "language": "python",
   "name": "python3"
  },
  "language_info": {
   "codemirror_mode": {
    "name": "ipython",
    "version": 3
   },
   "file_extension": ".py",
   "mimetype": "text/x-python",
   "name": "python",
   "nbconvert_exporter": "python",
   "pygments_lexer": "ipython3",
   "version": "3.10.4"
  }
 },
 "nbformat": 4,
 "nbformat_minor": 5
}
